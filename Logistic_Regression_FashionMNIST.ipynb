{
 "cells": [
  {
   "cell_type": "markdown",
   "metadata": {},
   "source": [
    "# Logistic Regression"
   ]
  },
  {
   "cell_type": "markdown",
   "metadata": {},
   "source": [
    "### Loading Training Data"
   ]
  },
  {
   "cell_type": "code",
   "execution_count": 7,
   "metadata": {},
   "outputs": [
    {
     "name": "stdout",
     "output_type": "stream",
     "text": [
      "['images_training.h5', 'labels_training.h5']\n"
     ]
    }
   ],
   "source": [
    "import h5py\n",
    "import numpy as np\n",
    "import os\n",
    "import matplotlib.pyplot as plt\n",
    "import pandas as pd\n",
    "import time\n",
    "import collections\n",
    "from scipy import linalg\n",
    "from time import gmtime, strftime, localtime\n",
    "\n",
    "print(os.listdir(\"../data/train\"))"
   ]
  },
  {
   "cell_type": "code",
   "execution_count": 8,
   "metadata": {},
   "outputs": [
    {
     "name": "stdout",
     "output_type": "stream",
     "text": [
      "(30000, 784) (30000,)\n"
     ]
    }
   ],
   "source": [
    "with h5py.File('../data/train/images_training.h5','r') as H:\n",
    "    data_train = np.copy(H['datatrain'])\n",
    "with h5py.File('../data/train/labels_training.h5','r') as H:\n",
    "    label_train = np.copy(H['labeltrain'])\n",
    "\n",
    "# Checking dimensions of training data\n",
    "print(data_train.shape,label_train.shape)"
   ]
  },
  {
   "cell_type": "markdown",
   "metadata": {},
   "source": [
    "### Feature scaling and Dimension Reduction"
   ]
  },
  {
   "cell_type": "code",
   "execution_count": 12,
   "metadata": {},
   "outputs": [
    {
     "name": "stdout",
     "output_type": "stream",
     "text": [
      "(784,)\n",
      "(30000, 784)\n"
     ]
    }
   ],
   "source": [
    "# Feature Scaling\n",
    "def feature_scaling(X, x_min, x_max):\n",
    "    nom = (X-X.min(axis=0))*(x_max-x_min)\n",
    "    denom = X.max(axis=0) - X.min(axis=0)\n",
    "    denom[denom==0] = 1  # divide by 0 adjustment\n",
    "    return x_min + nom/denom \n",
    "\n",
    "# apply function on training data\n",
    "# data_train_scaled = feature_scaling(data_train, -0.5, 0.5)\n",
    "# data_train_scaled = (data_train - data_train.mean(0)) / data_train.std(0)\n",
    "data_train_scaled = data_train / data_train.std(0)\n",
    "\n",
    "# print(data_train[0])\n",
    "print(data_train.std(0).shape)\n",
    "print(data_train.shape)"
   ]
  },
  {
   "cell_type": "code",
   "execution_count": 4,
   "metadata": {},
   "outputs": [
    {
     "name": "stdout",
     "output_type": "stream",
     "text": [
      "Feature selection : 784\n"
     ]
    }
   ],
   "source": [
    "# Dimension reduction using SVD\n",
    "U, A, Vt = linalg.svd(data_train_scaled, full_matrices=False)\n",
    "\n",
    "# Selecting k dimensions\n",
    "k=784\n",
    "print(\"Feature selection : {}\".format(k))"
   ]
  },
  {
   "cell_type": "markdown",
   "metadata": {},
   "source": [
    "Comparing a sample data. The first example belongs to class 0: T-Shirt/Top\n",
    "- Figure 1 is reconstructed from SVD with k features.\n",
    "- Figure 2 is actual image data."
   ]
  },
  {
   "cell_type": "code",
   "execution_count": 5,
   "metadata": {},
   "outputs": [
    {
     "data": {
      "image/png": "[encoded data removed]",
      "text/plain": [
       "<Figure size 432x288 with 1 Axes>"
      ]
     },
     "metadata": {
      "needs_background": "light"
     },
     "output_type": "display_data"
    },
    {
     "data": {
      "image/png": "[encoded data removed]",
      "text/plain": [
       "<Figure size 432x288 with 1 Axes>"
      ]
     },
     "metadata": {
      "needs_background": "light"
     },
     "output_type": "display_data"
    }
   ],
   "source": [
    "# Reconstructing and visualising truncated data\n",
    "data_train_reconstuct = np.dot(U[:,0:k], np.dot(np.diag(A[0:k]),Vt[0:k,:]))\n",
    "\n",
    "data_recon_shaped = data_train_reconstuct.reshape((data_train_reconstuct.shape[0], 28, 28))\n",
    "data_train_shaped = data_train.reshape((data_train.shape[0], 28, 28))\n",
    "\n",
    "plt.imshow(data_recon_shaped[0], cmap=plt.get_cmap('gray'))\n",
    "plt.title(\"class \" + str(label_train[0]) + \": T-shirt/Top\" )\n",
    "plt.show()\n",
    "\n",
    "plt.imshow(data_train_shaped[0], cmap=plt.get_cmap('gray'))\n",
    "plt.title(\"class \" + str(label_train[0]) + \": T-shirt/Top\" )\n",
    "plt.show()"
   ]
  },
  {
   "cell_type": "code",
   "execution_count": 6,
   "metadata": {},
   "outputs": [
    {
     "name": "stdout",
     "output_type": "stream",
     "text": [
      "(30000, 784)\n"
     ]
    }
   ],
   "source": [
    "# Truncated SVD based on k features selection\n",
    "# This truncated data will be used for training and validation\n",
    "# Overwriting training data with truncated training data\n",
    "# data_train = np.dot(U[:,0:k], np.diag(A[0:k]))\n",
    "data_train = data_train_scaled\n",
    "\n",
    "# Checking dimension\n",
    "print(data_train.shape)"
   ]
  },
  {
   "cell_type": "markdown",
   "metadata": {},
   "source": [
    "### Logistic Regression and optimisation"
   ]
  },
  {
   "cell_type": "code",
   "execution_count": 7,
   "metadata": {},
   "outputs": [],
   "source": [
    "# Sigmoid function\n",
    "def sigmoid_function(x):\n",
    "    return (1 / (1 + np.exp(-x)))\n",
    "\n",
    "# Loss/cross entropy function - log likelihood\n",
    "def cross_entropy_error_e(features_x, label_y, theta_s):\n",
    "    sigma = sigmoid_function(features_x @ theta_s)\n",
    "    sigma[sigma == 1] = 0.999999 # avoid 0 for log(1)\n",
    "    \n",
    "    entropy_error = label_y.T @ np.log(sigma) + (1 - label_y).T @ np.log(1 - sigma)\n",
    "    entropy_error = -1 * entropy_error\n",
    "    return entropy_error / len(label_y)"
   ]
  },
  {
   "cell_type": "code",
   "execution_count": 8,
   "metadata": {},
   "outputs": [],
   "source": [
    "# Loss/cross entropy function - log likelihood\n",
    "# Added regularisation paramter \"lambda\"\n",
    "def cross_entropy_error_regularized(features_x, label_y, theta_s, lambda_r):\n",
    "    sigma = sigmoid_function(features_x @ theta_s)\n",
    "    sigma[sigma == 1] = 0.999999 # avoid 0 for log(1)\n",
    "    \n",
    "    entropy_error = label_y.T @ np.log(sigma) + (1 - label_y).T @ np.log(1 - sigma)\n",
    "    entropy_error = (-1 * entropy_error) + ((lambda_r/2) * theta_s.T @ theta_s)\n",
    "    return entropy_error / len(label_y)"
   ]
  },
  {
   "cell_type": "code",
   "execution_count": 9,
   "metadata": {},
   "outputs": [],
   "source": [
    "# Gradient descent for optimisation\n",
    "def gradient_descent_gd(features_x, label_y, learn_rate, num_iter, lambda_r):\n",
    "    num_features = features_x.shape[1]\n",
    "    theta = np.zeros(num_features)\n",
    "    entropy_error_hist = np.zeros((num_iter,1))\n",
    "    \n",
    "    for i in range(num_iter):\n",
    "        sigma = sigmoid_function(features_x @ theta)\n",
    "        theta -= (learn_rate * (features_x.T @ (sigma - label_y))) / len(label_y)\n",
    "        entropy_error_hist[i] = cross_entropy_error_regularized(features_x, label_y, theta_s=theta, lambda_r=lambda_r)\n",
    "    return entropy_error_hist, theta"
   ]
  },
  {
   "cell_type": "code",
   "execution_count": 10,
   "metadata": {},
   "outputs": [],
   "source": [
    "#merging labels with features before random folds\n",
    "data_combined = np.c_[data_train, label_train]"
   ]
  },
  {
   "cell_type": "markdown",
   "metadata": {},
   "source": [
    "### Training and Validation split"
   ]
  },
  {
   "cell_type": "code",
   "execution_count": 11,
   "metadata": {},
   "outputs": [],
   "source": [
    "# Creating validation and train data based on random index\n",
    "indices = np.random.permutation(data_combined.shape[0])\n",
    "# Traing set - 50%\n",
    "# Validation set 1 - 10%\n",
    "# Validation set 2 - 10%\n",
    "training_idx, validation_idx = indices[:int(0.5*data_combined.shape[0])], indices[int(0.7*data_combined.shape[0]):int(0.8*data_combined.shape[0])]"
   ]
  },
  {
   "cell_type": "code",
   "execution_count": 12,
   "metadata": {},
   "outputs": [],
   "source": [
    "# adding 1's for constant weight w0\n",
    "data_combined = np.c_[np.ones(data_combined.shape[0]), data_combined]"
   ]
  },
  {
   "cell_type": "code",
   "execution_count": 13,
   "metadata": {},
   "outputs": [
    {
     "name": "stdout",
     "output_type": "stream",
     "text": [
      "(15000, 786)\n"
     ]
    }
   ],
   "source": [
    "training_set, validation_set = data_combined[training_idx,:], data_combined[validation_idx,:]\n",
    "print(training_set.shape)"
   ]
  },
  {
   "cell_type": "markdown",
   "metadata": {},
   "source": [
    "### Find optimum learning rate and lamda for one label"
   ]
  },
  {
   "cell_type": "code",
   "execution_count": 14,
   "metadata": {},
   "outputs": [],
   "source": [
    "# from math import ceil\n",
    "\n",
    "# # find optimum learning rate and lamda for one label\n",
    "# label_learn = (training_set[:,k+1] == 7).astype(int)\n",
    "# init_theta = np.zeros(training_set.shape[1] - 1)\n",
    "\n",
    "# # Initial loss/cost\n",
    "# entropy_initial = cross_entropy_error_regularized(features_x=training_set[:,0:(k+1)],label_y=label_learn,theta_s=init_theta, lambda_r=2)\n",
    "# print(\"Initial cost with theta = 0 for item {} is : {}\".format(0, entropy_initial))\n",
    "\n",
    "# num_iters = 5000\n",
    "# # sample learning rates\n",
    "# learning_rates = [0.01, 0.02,0.05, 0.1]\n",
    "# # sample lambda\n",
    "# lambda_rate = [2,5]\n",
    "\n",
    "# print(\"Starting learning for item : 7\")\n",
    "# plt.figure(figsize=(14,8))\n",
    "# leg = []\n",
    "\n",
    "# for lr in learning_rates:\n",
    "#     print(\"Learning rate set to : {} ...\".format(lr))\n",
    "#     for lm in lambda_rate:\n",
    "#         cost_history, temp = gradient_descent_gd(features_x=training_set[:,0:(k+1)], label_y=label_learn, learn_rate=lr, num_iter=num_iters, lambda_r=lm)\n",
    "#         leg.append(str(lr) + \" and \" + str(lm))\n",
    "#         plt.plot(cost_history, linewidth=2)\n",
    "\n",
    "# plt.title(\"Convergence plots for different learning rates\")\n",
    "# plt.xlabel(\"number of iterations\", fontsize=14)\n",
    "# plt.ylabel(\"cost\", fontsize=14)\n",
    "# plt.legend(list(map(str, leg)))\n",
    "# plt.axis([0, num_iters, 0, 0.7])\n",
    "# plt.grid()"
   ]
  },
  {
   "cell_type": "code",
   "execution_count": 15,
   "metadata": {},
   "outputs": [
    {
     "name": "stdout",
     "output_type": "stream",
     "text": [
      "Mon, 21 Oct 2019 19:24:15 +0000\n"
     ]
    }
   ],
   "source": [
    "# registering time for perfomance measurement\n",
    "start = time.time()\n",
    "print(strftime(\"%a, %d %b %Y %H:%M:%S +0000\", localtime()))"
   ]
  },
  {
   "cell_type": "markdown",
   "metadata": {},
   "source": [
    "### Model training and find accuracy"
   ]
  },
  {
   "cell_type": "code",
   "execution_count": 16,
   "metadata": {},
   "outputs": [
    {
     "name": "stdout",
     "output_type": "stream",
     "text": [
      "Classifier size : (10, 785)\n",
      "-------------------------------------------------------\n",
      "Training accuracy: 83.68666666666667%\n",
      "-------------------------------------------------------\n",
      "Mon, 21 Oct 2019 19:25:58 +0000\n",
      "CPU times: user 3min 15s, sys: 2.74 s, total: 3min 18s\n",
      "Wall time: 1min 43s\n"
     ]
    }
   ],
   "source": [
    "%%time\n",
    "# Training data\n",
    "X = training_set[:,0:(k+1)]\n",
    "# Labels for training set\n",
    "y = training_set[:,k+1]\n",
    "# Initializing classifier for each label\n",
    "classifiers = np.zeros(shape=(10, training_set.shape[1] - 1))\n",
    "print(\"Classifier size : {}\".format(classifiers.shape))\n",
    "\n",
    "for c in range(0, 10):\n",
    "    label = (y == c).astype(int)\n",
    "    _, classifiers[c, :] = gradient_descent_gd(features_x=X, label_y=label, learn_rate=0.015, num_iter=800, lambda_r=10)\n",
    "\n",
    "# Predicting probabilities\n",
    "classProbabilities = sigmoid_function(X @ classifiers.transpose())\n",
    "\n",
    "# labeling data based on maximum probability\n",
    "predictions = classProbabilities.argmax(axis=1)\n",
    "\n",
    "# Accuracy measurement for training data\n",
    "print(\"-------------------------------------------------------\")\n",
    "print(\"Training accuracy:\", str(100 * np.mean(predictions == y)) + \"%\")\n",
    "print(\"-------------------------------------------------------\")\n",
    "print(strftime(\"%a, %d %b %Y %H:%M:%S +0000\", localtime()))"
   ]
  },
  {
   "cell_type": "code",
   "execution_count": 17,
   "metadata": {},
   "outputs": [
    {
     "name": "stdout",
     "output_type": "stream",
     "text": [
      "Counter({4: 1724, 9: 1605, 7: 1600, 3: 1593, 8: 1518, 2: 1511, 0: 1490, 1: 1479, 5: 1344, 6: 1136})\n"
     ]
    }
   ],
   "source": [
    "# Prediction distribution\n",
    "print(collections.Counter(predictions))"
   ]
  },
  {
   "cell_type": "markdown",
   "metadata": {},
   "source": [
    "### Validate set 1"
   ]
  },
  {
   "cell_type": "code",
   "execution_count": 18,
   "metadata": {},
   "outputs": [
    {
     "name": "stdout",
     "output_type": "stream",
     "text": [
      "-------------------------------------------------------\n",
      "validation accuracy: 81.76666666666667%\n",
      "-------------------------------------------------------\n",
      "Prediction distribution for Validation set 1 : Counter({4: 342, 2: 332, 3: 331, 9: 328, 1: 301, 7: 298, 0: 294, 8: 289, 5: 255, 6: 230})\n",
      "--- Total time taken in Training and Validation ---\n",
      "--- 103.09307909011841 sec ---\n",
      "Mon, 21 Oct 2019 19:25:58 +0000\n",
      "CPU times: user 13.1 ms, sys: 1.88 ms, total: 15 ms\n",
      "Wall time: 6.56 ms\n"
     ]
    }
   ],
   "source": [
    "%%time\n",
    "# Applying classifier on validation set 1\n",
    "X = validation_set[:,0:(k+1)]\n",
    "y = validation_set[:,(k+1)]\n",
    "\n",
    "classProbabilities = sigmoid_function(X @ classifiers.transpose())\n",
    "predictions = classProbabilities.argmax(axis=1)\n",
    "print(\"-------------------------------------------------------\")\n",
    "print(\"validation accuracy:\", str(100 * np.mean(predictions == y)) + \"%\")\n",
    "print(\"-------------------------------------------------------\")\n",
    "\n",
    "print(\"Prediction distribution for Validation set 1 : {}\".format(collections.Counter(predictions)))\n",
    "print(\"--- Total time taken in Training and Validation ---\")\n",
    "print(\"--- %s sec ---\" % (time.time() - start))\n",
    "print(strftime(\"%a, %d %b %Y %H:%M:%S +0000\", localtime()))"
   ]
  },
  {
   "cell_type": "markdown",
   "metadata": {},
   "source": [
    "### Validate set 2"
   ]
  },
  {
   "cell_type": "code",
   "execution_count": 19,
   "metadata": {},
   "outputs": [
    {
     "name": "stdout",
     "output_type": "stream",
     "text": [
      "-------------------------------------------------------\n",
      "validation set 2 accuracy: 81.73333333333333%\n",
      "-------------------------------------------------------\n",
      "Prediction distribution for Validation set 2 : Counter({4: 353, 3: 352, 9: 328, 8: 324, 7: 320, 2: 311, 1: 292, 0: 268, 5: 246, 6: 206})\n",
      "Counter({4: 353, 3: 352, 9: 328, 8: 324, 7: 320, 2: 311, 1: 292, 0: 268, 5: 246, 6: 206})\n",
      "--- 103.11717700958252 sec ---\n",
      "Mon, 21 Oct 2019 19:25:58 +0000\n",
      "CPU times: user 26.2 ms, sys: 7.79 ms, total: 34 ms\n",
      "Wall time: 16.3 ms\n"
     ]
    }
   ],
   "source": [
    "%%time\n",
    "# Applying classifier on validation set 2\n",
    "validation_idx_2 = indices[int(0.8*data_combined.shape[0]):int(0.9*data_combined.shape[0])]\n",
    "validation_set_2 = data_combined[validation_idx_2,:]\n",
    "\n",
    "X = validation_set_2[:,0:(k+1)]\n",
    "y = validation_set_2[:,(k+1)]\n",
    "classProbabilities = sigmoid_function(X @ classifiers.transpose())\n",
    "predictions = classProbabilities.argmax(axis=1)\n",
    "print(\"-------------------------------------------------------\")\n",
    "print(\"validation set 2 accuracy:\", str(100 * np.mean(predictions == y)) + \"%\")\n",
    "print(\"-------------------------------------------------------\")\n",
    "\n",
    "print(\"Prediction distribution for Validation set 2 : {}\".format(collections.Counter(predictions)))\n",
    "print(collections.Counter(predictions))\n",
    "print(\"--- %s sec ---\" % (time.time() - start))\n",
    "print(strftime(\"%a, %d %b %Y %H:%M:%S +0000\", localtime()))"
   ]
  },
  {
   "cell_type": "markdown",
   "metadata": {},
   "source": [
    "### Cross check classifiers against Test Data"
   ]
  },
  {
   "cell_type": "code",
   "execution_count": 20,
   "metadata": {},
   "outputs": [
    {
     "name": "stdout",
     "output_type": "stream",
     "text": [
      "Test data size : (10000, 784)\n",
      "(2000,) (10, 785) (785, 10)\n",
      "-------------------------------------------------------\n",
      "Testing accuracy: 82.15%\n",
      "-------------------------------------------------------\n",
      "Mon, 21 Oct 2019 19:25:59 +0000\n",
      "CPU times: user 1.16 s, sys: 112 ms, total: 1.27 s\n",
      "Wall time: 685 ms\n"
     ]
    }
   ],
   "source": [
    "%%time\n",
    "\n",
    "with h5py.File('../data/test/images_testing.h5','r') as H:\n",
    "    data_pred = np.copy(H['datatest'])\n",
    "with h5py.File('../data/test/labels_testing_2000.h5','r') as H:\n",
    "    label_pred = np.copy(H['labeltest'])\n",
    "               \n",
    "# Feature scaling for test data\n",
    "# data_pred_scaled = feature_scaling(data_pred, -0.5, 0.5)\n",
    "# data_pred_scaled = (data_pred - data_pred.mean(0)) / data_pred.std(0)\n",
    "data_pred_scaled = data_pred / data_pred.std(0)\n",
    "\n",
    "# SVD on test data to match classifier dimension\n",
    "U_test, A_test, Vt_test = linalg.svd(data_pred_scaled, full_matrices=False)\n",
    "# data_pred = np.dot(U_test[:,0:k], np.diag(A_test[0:k]))\n",
    "data_pred = data_pred_scaled\n",
    "print(\"Test data size : {}\".format(data_pred.shape))\n",
    "\n",
    "# padding 1's\n",
    "data_pred_combined = np.c_[np.ones(data_pred.shape[0]), data_pred]\n",
    "\n",
    "# Selecting first 2000 samples with labels\n",
    "X = data_pred_combined[0:2000,:]\n",
    "y = label_pred\n",
    "\n",
    "# Predicting output labels\n",
    "classProbabilities = sigmoid_function(X @ classifiers.transpose())\n",
    "# classProbabilities = sigmoid_function(np.dot(X, classifiers.transpose()))\n",
    "predictions = classProbabilities.argmax(axis=1)\n",
    "print(predictions.shape, classifiers.shape, classifiers.transpose().shape)\n",
    "\n",
    "print(\"-------------------------------------------------------\")\n",
    "print(\"Testing accuracy:\", str(100 * np.mean(predictions == y)) + \"%\")\n",
    "print(\"-------------------------------------------------------\")\n",
    "print(strftime(\"%a, %d %b %Y %H:%M:%S +0000\", localtime()))"
   ]
  }
 ],
 "metadata": {
  "anaconda-cloud": {},
  "kernelspec": {
   "display_name": "Python 3",
   "language": "python",
   "name": "python3"
  },
  "language_info": {
   "codemirror_mode": {
    "name": "ipython",
    "version": 3
   },
   "file_extension": ".py",
   "mimetype": "text/x-python",
   "name": "python",
   "nbconvert_exporter": "python",
   "pygments_lexer": "ipython3",
   "version": "3.7.3"
  }
 },
 "nbformat": 4,
 "nbformat_minor": 2
}
